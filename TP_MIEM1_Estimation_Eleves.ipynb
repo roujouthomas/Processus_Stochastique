{
 "cells": [
  {
   "cell_type": "markdown",
   "metadata": {},
   "source": [
    "## Illustration des concepts vus dans le TD 1 Estimation statistique ##"
   ]
  },
  {
   "cell_type": "markdown",
   "metadata": {},
   "source": [
    "Ce notebook va illustrer les résultats vus dans le TD 1. Nous allons utiliser pour cela des simulations mais il faut garder à l'esprit que lors d'une étude statistique on ne récolte en général qu'un seul échantillon et que le paramètre n'est pas connu. Le but du TP est de montrer que les résultats théoriques obtenus garantissent un certain comportement en moyenne (i.e. si l'expérience statistique était répétée de nombreuses fois)."
   ]
  },
  {
   "cell_type": "code",
   "execution_count": 1,
   "metadata": {},
   "outputs": [
    {
     "ename": "ModuleNotFoundError",
     "evalue": "No module named 'scipy'",
     "output_type": "error",
     "traceback": [
      "\u001b[0;31m---------------------------------------------------------------------------\u001b[0m",
      "\u001b[0;31mModuleNotFoundError\u001b[0m                       Traceback (most recent call last)",
      "Cell \u001b[0;32mIn[1], line 8\u001b[0m\n\u001b[1;32m      6\u001b[0m \u001b[38;5;28;01mimport\u001b[39;00m \u001b[38;5;21;01mnumpy\u001b[39;00m\n\u001b[1;32m      7\u001b[0m \u001b[38;5;28;01mimport\u001b[39;00m \u001b[38;5;21;01mmath\u001b[39;00m\n\u001b[0;32m----> 8\u001b[0m \u001b[38;5;28;01mimport\u001b[39;00m \u001b[38;5;21;01mscipy\u001b[39;00m\u001b[38;5;21;01m.\u001b[39;00m\u001b[38;5;21;01mstats\u001b[39;00m\n",
      "\u001b[0;31mModuleNotFoundError\u001b[0m: No module named 'scipy'"
     ]
    }
   ],
   "source": [
    "# Code permettant d'avoir les graphiques dans le notebook\n",
    "%matplotlib inline\n",
    "\n",
    "# Les bibliothèques Python pour ce TP (***en rajouter ici si besoin***)\n",
    "import matplotlib.pyplot\n",
    "import numpy\n",
    "import math\n",
    "import scipy.stats"
   ]
  },
  {
   "cell_type": "code",
   "execution_count": 2,
   "metadata": {},
   "outputs": [],
   "source": [
    "# Sandbox cell: you can try short Python code here\n"
   ]
  },
  {
   "cell_type": "markdown",
   "metadata": {},
   "source": [
    "### Exercice 1 : la loi de Pareto ###"
   ]
  },
  {
   "cell_type": "code",
   "execution_count": null,
   "metadata": {},
   "outputs": [],
   "source": [
    "# Parameters\n",
    "# Confidence level\n",
    "kappa = 0.9\n",
    "# Number of samples\n",
    "K = 500\n",
    "# Sample size\n",
    "taille = 100\n",
    "# Parameter of the Pareto distribution\n",
    "alpha = 2"
   ]
  },
  {
   "cell_type": "markdown",
   "metadata": {},
   "source": [
    "**Question**\n",
    "\n",
    "Dans la cellule ci-dessous, analyser les paramètres passés à la fonction *pareto.rvs*. Comparer la paramétrisation utilisée en Python et la paramétrisation de l'exercice 1 du TD Estimation. Quels autres paramètres caractérisant la loi de Pareto peut-on passer à la fonction *pareto.rvs*? Quelles sont les valeurs par défaut de ces paramètres?\n"
   ]
  },
  {
   "cell_type": "code",
   "execution_count": 3,
   "metadata": {},
   "outputs": [
    {
     "ename": "NameError",
     "evalue": "name 'scipy' is not defined",
     "output_type": "error",
     "traceback": [
      "\u001b[0;31m---------------------------------------------------------------------------\u001b[0m",
      "\u001b[0;31mNameError\u001b[0m                                 Traceback (most recent call last)",
      "Cell \u001b[0;32mIn[3], line 1\u001b[0m\n\u001b[0;32m----> 1\u001b[0m echantillontest \u001b[38;5;241m=\u001b[39m scipy\u001b[38;5;241m.\u001b[39mstats\u001b[38;5;241m.\u001b[39mpareto\u001b[38;5;241m.\u001b[39mrvs( b \u001b[38;5;241m=\u001b[39m \u001b[38;5;241m2\u001b[39m, size \u001b[38;5;241m=\u001b[39m \u001b[38;5;241m10\u001b[39m )\n\u001b[1;32m      2\u001b[0m \u001b[38;5;28mprint\u001b[39m( echantillontest )\n",
      "\u001b[0;31mNameError\u001b[0m: name 'scipy' is not defined"
     ]
    }
   ],
   "source": [
    "echantillontest = scipy.stats.pareto.rvs( b = 2, size = 10 )\n",
    "print( echantillontest )"
   ]
  },
  {
   "cell_type": "markdown",
   "metadata": {},
   "source": [
    "#### Fonction pour calculer l'estimateur pour alpha ####"
   ]
  },
  {
   "cell_type": "markdown",
   "metadata": {},
   "source": [
    "**Question**\n",
    "\n",
    "Dans la cellule de code ci-dessous, programmer la fonction qui renvoie la valeur numérique de l'estimateur, appelée *estimateur*, et qui reçoit comme paramètre l'échantillon, appelé *echantillon*."
   ]
  },
  {
   "cell_type": "code",
   "execution_count": null,
   "metadata": {},
   "outputs": [],
   "source": [
    "# A FAIRE ECRIRE PAR LES ELEVES\n",
    "def estimateurPareto( echantillon ):\n",
    "    # echantillon is a list\n",
    "    \n",
    "    estimateur = \n",
    "    return estimateur"
   ]
  },
  {
   "cell_type": "markdown",
   "metadata": {},
   "source": [
    "#### Comportement de l'estimateur ####"
   ]
  },
  {
   "cell_type": "markdown",
   "metadata": {},
   "source": [
    "Nous allons maintenant utiliser des représentations graphiques pour évaluer la distribution de l'estimateur du maximum de vraisemblance."
   ]
  },
  {
   "cell_type": "code",
   "execution_count": null,
   "metadata": {},
   "outputs": [],
   "source": [
    "estimateurs = []\n",
    "for k in range( 0, K):\n",
    "    echantillon = scipy.stats.pareto.rvs( b = alpha, size = taille )\n",
    "    estimateurs.append( estimateurPareto( echantillon ) )"
   ]
  },
  {
   "cell_type": "code",
   "execution_count": null,
   "metadata": {},
   "outputs": [],
   "source": [
    "# Draw the Box-plot for the estimators\n",
    "matplotlib.pyplot.boxplot( estimateurs );\n",
    "\n",
    "# Draw the true value : green plus sign\n",
    "matplotlib.pyplot.plot( [ 1 ] , [ alpha ], color = 'green', marker = '+' );"
   ]
  },
  {
   "cell_type": "markdown",
   "metadata": {},
   "source": [
    "**Question**\n",
    "\n",
    "Dans le graphe de type box-plot, que représentent les différentes parties (boite centrale, traits verticaux à l'extérieur de la boîte centrale, points au-delà des traits horizontaux)? Vous pourrez vous aider de la document de la fonction *boxplot*."
   ]
  },
  {
   "cell_type": "markdown",
   "metadata": {},
   "source": [
    "**Question**\n",
    "\n",
    "En vous appuyant sur le box-plot, quelles sont vos impressions quant à la distribution de l'estimateur du maximum de vraisemblance?"
   ]
  },
  {
   "cell_type": "markdown",
   "metadata": {},
   "source": [
    "#### Intervalle de confiance exact ####"
   ]
  },
  {
   "cell_type": "markdown",
   "metadata": {},
   "source": [
    "Nous allons maintenant déterminer l'intervalle de confiance exact pour différents échantillons et étudier les résultasts obtenus."
   ]
  },
  {
   "cell_type": "markdown",
   "metadata": {},
   "source": [
    "**Question**\n",
    "\n",
    "Compléter le code ci-dessous afin que *borne_inf* et *borne_sup* contiennent respectivement la borne inférieure et la borne supérieure de l'intervalle de confiance exact établi dans le TD.\n",
    "\n",
    "Afin de rendre le code plus lisible, vous calculerez le quantile de la loi Gamma apparaissant dans la borne inférieure dans la variable *qlow* et celui apparaissant dans la borne supérieure dans la variable *qhigh*."
   ]
  },
  {
   "cell_type": "code",
   "execution_count": null,
   "metadata": {},
   "outputs": [],
   "source": [
    "# Quantile of Gamma(n,1) distribution for the lower bound\n",
    "# Hint: corresponds to (1-kappa)/2\n",
    "qlow = \n",
    "# Quantile of Gamma(n,1) distribution for the upper bound\n",
    "# Hint: corresponds to (1+kappa)/2\n",
    "qhigh = \n",
    "\n",
    "# List to record the results\n",
    "# It is a list of lists\n",
    "Confidence_intervals = []\n",
    "\n",
    "# Computation of the confidence intervals for the K samples previously simulated\n",
    "for i in range( K ):\n",
    "    # Lower bound\n",
    "    borne_inf = \n",
    "    # Upper bound\n",
    "    borne_sup = \n",
    "    # Parameter inside or outside the confidence interval\n",
    "    ind = (borne_inf <= alpha) * (alpha <= borne_sup) * 1\n",
    "    # Length of the confidence interval\n",
    "    longueur = borne_sup - borne_inf\n",
    "    # Save the result\n",
    "    Temp = [borne_inf, borne_sup, ind, longueur]\n",
    "    Confidence_intervals.append(Temp)"
   ]
  },
  {
   "cell_type": "markdown",
   "metadata": {},
   "source": [
    "On trace les intervalles de confiance obtenus sur un graphique :\n",
    "*  en vert : les intervalles qui contiennent la vraie valeur du paramètre,\n",
    "*  en rouge : les intervalles qui ne contiennent pas la vraie valeur du paramètre."
   ]
  },
  {
   "cell_type": "code",
   "execution_count": null,
   "metadata": {},
   "outputs": [],
   "source": [
    "# Display of the results\n",
    "matplotlib.pyplot.figure(1)\n",
    "\n",
    "# Number of correct confidence intervals\n",
    "nombre = 0\n",
    "matplotlib.pyplot.ylabel( \"Numéro de l'intervalle\" )\n",
    "matplotlib.pyplot.xlabel( \"Minimum et maximum de l'intervalle\" )\n",
    "for i in range(0, K):\n",
    "    nombre = nombre + Confidence_intervals[i][2]\n",
    "    couleur = \"Red\"\n",
    "    if Confidence_intervals[i][2] == 1:\n",
    "        couleur=\"Green\"\n",
    "    line = matplotlib.pyplot.plot([Confidence_intervals[i][0],Confidence_intervals[i][1]],[i,i], color=couleur)\n",
    "matplotlib.pyplot.draw()"
   ]
  },
  {
   "cell_type": "markdown",
   "metadata": {},
   "source": [
    "Le code suivant permet de faire quelques calculs pour synthétiser les résultats obtenus."
   ]
  },
  {
   "cell_type": "code",
   "execution_count": null,
   "metadata": {},
   "outputs": [],
   "source": [
    "print( 'Nombre d intervalles contenant le vrai parametre = ', nombre )\n",
    "\n",
    "print( 'Proportion d intervalles contenant le vrai parametre =', float(nombre) / K )\n",
    "\n",
    "# Graph of the interval length\n",
    "matplotlib.pyplot.figure(2)\n",
    "\n",
    "# List of the lengths\n",
    "tempo = list()\n",
    "for i in range(0, K):\n",
    "    tempo.append( Confidence_intervals[i][3] )\n",
    "\n",
    "print( 'Longueur moyenne des intervalles =', numpy.mean( tempo ) )\n",
    "\n",
    "# Graph\n",
    "matplotlib.pyplot.ylabel( \"Longueur de l'intervalle\" )\n",
    "matplotlib.pyplot.xlabel( \"Numéro de l'intervalle\" )\n",
    "matplotlib.pyplot.plot( range(1, K + 1), tempo )\n",
    "matplotlib.pyplot.draw()    "
   ]
  },
  {
   "cell_type": "markdown",
   "metadata": {},
   "source": [
    "**Question**\n",
    "\n",
    "Que constatez-vous?\n",
    "\n",
    "Est-ce que la proportion du nombre d'intervalles de confiance contenant la vraie valeur du paramètre est proche de la valeur attendue *kappa*?\n",
    "\n",
    "Etait-il prévisible que la longueur de l'intervalle fluctue en fonction de l'échantillon?"
   ]
  },
  {
   "cell_type": "markdown",
   "metadata": {},
   "source": [
    "#### Loi asymptotique de l'EMV ####"
   ]
  },
  {
   "cell_type": "markdown",
   "metadata": {},
   "source": [
    "Dans le TD, on a vu que\n",
    "\n",
    "$$ \\sqrt{n} \\left( \\frac{\\hat{\\alpha}_n}{\\alpha} - 1 \\right) \\mathop{\\longrightarrow}_{n \\to +\\infty} \\mathcal{N}\\left( 0, 1 \\right). $$\n",
    "\n",
    "Pour illustrer cette convergence en loi, nous pouvons tracer la fonction de répartition empirique du membre de gauche qui approche la vraie fonction de répartition de ce membre et comparer avec la fonction de répartition de la loi gaussienne standard."
   ]
  },
  {
   "cell_type": "markdown",
   "metadata": {},
   "source": [
    "Nous commençons par créer une fonction permettant de calcul la fonction de répartition empirique d'un échantillon."
   ]
  },
  {
   "cell_type": "code",
   "execution_count": null,
   "metadata": {},
   "outputs": [],
   "source": [
    "def ECDF( echantillon, a = 1, b = 1 ):\n",
    "    # a to set the lower limit to min( echantillon ) - a, default value = 1\n",
    "    # b to set the upper limit to max( echantillon ) + b, default value = 1\n",
    "    tempo = list( set( echantillon ))\n",
    "    tempo.sort()\n",
    "    ecdf = [ 0 ]\n",
    "    for x in tempo:\n",
    "        nb = 0\n",
    "        for z in echantillon:\n",
    "            if ( z <= x ):\n",
    "                nb = nb + 1\n",
    "        ecdf.append( float( nb ) / len( echantillon ) )\n",
    "    ecdf.append( 1 )\n",
    "    tempo.append( max( tempo) + b )\n",
    "    tempo.insert( 0, min( tempo ) - a )\n",
    "    Fullecdf = [ tempo, ecdf ]\n",
    "    return Fullecdf"
   ]
  },
  {
   "cell_type": "code",
   "execution_count": null,
   "metadata": {},
   "outputs": [],
   "source": [
    "estimateurs_normalises = [ math.sqrt( taille ) * ( u / alpha - 1 ) for u in estimateurs ]\n",
    "A = ECDF( estimateurs_normalises )"
   ]
  },
  {
   "cell_type": "code",
   "execution_count": null,
   "metadata": {},
   "outputs": [],
   "source": [
    "# Plot of the empirical cdf for the normalized estimators\n",
    "matplotlib.pyplot.step( A[ 0 ], A[ 1 ], where = 'post', color= 'red' )\n",
    "# Plot of the standard gaussian cdf\n",
    "x = numpy.linspace( min( A[ 0 ] ), max( A[ 0 ] ), 100 )\n",
    "y = scipy.stats.norm.cdf( x )\n",
    "matplotlib.pyplot.plot( x, y, linestyle = '-', color = 'green' )\n",
    "matplotlib.pyplot.show()"
   ]
  },
  {
   "cell_type": "markdown",
   "metadata": {},
   "source": [
    "**Question**\n",
    "\n",
    "Que constatez-vous?\n",
    "\n",
    "Vous pouvez par exemple changer les valeurs des paramètres *alpha* et *taille* pour évaluer la vitesse de la convergence vers la loi normale standard en fonction de ces paramètres."
   ]
  },
  {
   "cell_type": "markdown",
   "metadata": {},
   "source": [
    "**Question**\n",
    "\n",
    "Compléter le code ci-dessous afin que *borne_inf* et *borne_sup* contiennent respectivement la borne inférieure et la borne supérieure de l'intervalle de confiance asymptotique établi dans le TD.\n",
    "\n",
    "Afin de rendre le code plus lisible, vous calculerez le quantile de la loi normale apparaissant dans la borne inférieure dans la variable *qashigh* et celui apparaissant dans la borne supérieure dans la variable *qaslow*."
   ]
  },
  {
   "cell_type": "markdown",
   "metadata": {},
   "source": [
    "#### Intervalle de confiance asymptotique ####"
   ]
  },
  {
   "cell_type": "code",
   "execution_count": null,
   "metadata": {},
   "outputs": [],
   "source": [
    "# Quantile of N(0,1) distribution for the lower bound\n",
    "# Hint: corresponds to (1+kappa)/2\n",
    "qaslow = \n",
    "# Quantile of N(0,1) distribution for the upper bound\n",
    "# Hint: corresponds to (1-kappa)/2\n",
    "qashigh = \n",
    "\n",
    "# List to record the results\n",
    "# It is a list of lists\n",
    "Confidence_asympintervals = []\n",
    "\n",
    "# Computation of the confidence intervals for the K samples previously simulated\n",
    "for i in range( K ):\n",
    "    # Lower bound\n",
    "    borne_inf = \n",
    "    # Upper bound\n",
    "    borne_sup = \n",
    "    # Parameter inside or outside the confidence interval\n",
    "    ind = (borne_inf <= alpha) * (alpha <= borne_sup) * 1\n",
    "    # Length of the confidence interval\n",
    "    longueur = borne_sup - borne_inf\n",
    "    # Save the result\n",
    "    Temp = [borne_inf, borne_sup, ind, longueur]\n",
    "    Confidence_asympintervals.append( Temp )"
   ]
  },
  {
   "cell_type": "markdown",
   "metadata": {},
   "source": [
    "On trace les intervalles de confiance obtenus sur un graphique :\n",
    "*  en vert : les intervalles qui contiennent la vraie valeur du paramètre,\n",
    "*  en rouge : les intervalles qui ne contiennent pas la vraie valeur du paramètre."
   ]
  },
  {
   "cell_type": "code",
   "execution_count": null,
   "metadata": {},
   "outputs": [],
   "source": [
    "# Display of the results\n",
    "matplotlib.pyplot.figure(1)\n",
    "\n",
    "# Number of correct confidence intervals\n",
    "nombre = 0\n",
    "matplotlib.pyplot.ylabel( \"Numéro de l'intervalle\" )\n",
    "matplotlib.pyplot.xlabel( \"Minimum et maximum de l'intervalle\" )\n",
    "for i in range(0, K):\n",
    "    nombre = nombre + Confidence_asympintervals[i][2]\n",
    "    couleur = \"Red\"\n",
    "    if Confidence_asympintervals[i][2] == 1:\n",
    "        couleur=\"Green\"\n",
    "    line = matplotlib.pyplot.plot([Confidence_asympintervals[i][0],Confidence_asympintervals[i][1]],[i,i], color=couleur)\n",
    "matplotlib.pyplot.draw()"
   ]
  },
  {
   "cell_type": "code",
   "execution_count": null,
   "metadata": {},
   "outputs": [],
   "source": [
    "print( 'Nombre d intervalles contenant le vrai parametre = ', nombre )\n",
    "\n",
    "print( 'Proportion d intervalles contenant le vrai parametre =', float(nombre) / K )\n",
    "\n",
    "# Graph of the interval length\n",
    "matplotlib.pyplot.figure(2)\n",
    "\n",
    "# List of the lengths\n",
    "tempo = list()\n",
    "for i in range(0, K):\n",
    "    tempo.append( Confidence_asympintervals[i][3] )\n",
    "\n",
    "print( 'Longueur moyenne des intervalles =', numpy.mean( tempo ) )\n",
    "\n",
    "# Graph\n",
    "matplotlib.pyplot.ylabel( \"Longueur de l'intervalle\" )\n",
    "matplotlib.pyplot.xlabel( \"Numéro de l'intervalle\" )\n",
    "matplotlib.pyplot.plot( range(1, K + 1), tempo )\n",
    "matplotlib.pyplot.draw()    "
   ]
  },
  {
   "cell_type": "markdown",
   "metadata": {},
   "source": [
    "**Question**\n",
    "\n",
    "Que constatez-vous?\n",
    "\n",
    "Est-ce que la proportion du nombre d'intervalles de confiance contenant la vraie valeur du paramètre est proche de la valeur attendue *kappa*?\n",
    "\n",
    "Etait-il prévisible que la longueur de l'intervalle fluctue en fonction de l'échantillon?"
   ]
  },
  {
   "cell_type": "markdown",
   "metadata": {},
   "source": [
    "### Exercice 2 : modèle non-régulier ###"
   ]
  },
  {
   "cell_type": "markdown",
   "metadata": {},
   "source": [
    "Dans cette exercice, nous avons deux estimateurs :\n",
    "* Méthode des moments\n",
    "$$ \\hat{\\theta}_n = \\bar{X}_n - 1,$$\n",
    "* Méthode du maximum de vraisemblance\n",
    "$$ \\tilde{\\theta}_n = \\min\\{X_1,\\ldots, X_n \\}.$$"
   ]
  },
  {
   "cell_type": "code",
   "execution_count": null,
   "metadata": {},
   "outputs": [],
   "source": [
    "# Parameters\n",
    "# Confidence level\n",
    "kappa = 0.8\n",
    "# Number of samples\n",
    "K = 500\n",
    "# Sample size\n",
    "taille = 30\n",
    "# Parameter of the Pareto distribution\n",
    "theta = 2"
   ]
  },
  {
   "cell_type": "code",
   "execution_count": null,
   "metadata": {},
   "outputs": [],
   "source": [
    "# Computation of the two estimators: moment methods and maximum likelihood\n",
    "estimateursMM = []\n",
    "estimateursMV = []\n",
    "for k in range( 0, K):\n",
    "    echantillon = scipy.stats.expon.rvs( scale = 1, size = taille ) + theta\n",
    "    estimateursMM.append( numpy.average( echantillon ) - 1 )\n",
    "    estimateursMV.append( min( echantillon ) )"
   ]
  },
  {
   "cell_type": "code",
   "execution_count": null,
   "metadata": {},
   "outputs": [],
   "source": [
    "# Draw the Box-plot for the estimators\n",
    "fig, ax = matplotlib.pyplot.subplots()\n",
    "ax.boxplot( [ estimateursMM, estimateursMV] )\n",
    "\n",
    "# Draw the true value : green plus sign\n",
    "ax.plot( [ 1, 2 ] , [ theta, theta ], linestyle = 'None', color = 'green', marker = '+' );\n",
    "\n",
    "\n",
    "matplotlib.pyplot.show()"
   ]
  },
  {
   "cell_type": "markdown",
   "metadata": {},
   "source": [
    "**Question**\n",
    "\n",
    "En vous appuyant sur les box-plots, comparer les fluctuations de chaque estimateur par rapport à la vraie valeur du paramètre. Vos constatations sont-elles en ligne avec les résultats des calculs de l'exercice (biais, risque quadratique)?"
   ]
  },
  {
   "cell_type": "markdown",
   "metadata": {},
   "source": [
    "#### Comportement des estimateurs ####"
   ]
  },
  {
   "cell_type": "markdown",
   "metadata": {},
   "source": [
    "Après des renormalisations comme dans les questions de l'exercice, nous traçons les fonctions de répartition empirique des estimateurs calculés sur différents échantillons. Notre but est de voir si les lois limites trouvées dans l'exercice sont visibles dans la pratique."
   ]
  },
  {
   "cell_type": "code",
   "execution_count": null,
   "metadata": {},
   "outputs": [],
   "source": [
    "estimateursMM_normalises = [ math.sqrt( taille ) * ( u - theta ) for u in estimateursMM ]\n",
    "A = ECDF( estimateursMM_normalises )\n",
    "estimateursMV_normalises = [ taille * ( u - theta ) for u in estimateursMV ]\n",
    "B = ECDF( estimateursMV_normalises )"
   ]
  },
  {
   "cell_type": "code",
   "execution_count": null,
   "metadata": {},
   "outputs": [],
   "source": [
    "# Plot of the empirical cdf for the normalized moment method estimators\n",
    "matplotlib.pyplot.step( A[ 0 ], A[ 1 ], where = 'post', color= 'red' )\n",
    "# Plot of the standard gaussian cdf\n",
    "x = numpy.linspace( min( A[ 0 ] ), max( A[ 0 ] ), 100 )\n",
    "y = scipy.stats.norm.cdf( x )\n",
    "matplotlib.pyplot.plot( x, y, linestyle = '-', color = 'green' )\n",
    "matplotlib.pyplot.title( \"Moment Method Estimator\")\n",
    "matplotlib.pyplot.show()\n",
    "\n",
    "# Plot of the empirical cdf for the normalized maximum likelihood estimators\n",
    "matplotlib.pyplot.step( B[ 0 ], B[ 1 ], where = 'post', color= 'red' )\n",
    "# Plot of the standard gaussian cdf\n",
    "x = numpy.linspace( min( B[ 0 ] ), max( B[ 0 ] ), 100 )\n",
    "y = scipy.stats.expon.cdf( x )\n",
    "matplotlib.pyplot.plot( x, y, linestyle = '-', color = 'green' )\n",
    "matplotlib.pyplot.title( \"Maximum Likelihood Estimator\" )\n",
    "matplotlib.pyplot.show()"
   ]
  },
  {
   "cell_type": "markdown",
   "metadata": {},
   "source": [
    "**Question**\n",
    "\n",
    "Pour l'estimateur par la méthode des moments, a-t-on bien après renormalisation convergence en loi vers la loi gaussienne $\\mathcal{N}(0,1)$?\n",
    "\n",
    "Pour l'estimateur du maximum de vraisemblance, a-t-on bien après renormalisation convergence en loi vers la loi exponentielle $\\mathcal{E}(1)$?"
   ]
  },
  {
   "cell_type": "markdown",
   "metadata": {},
   "source": [
    "##### Intervalle de confiance exact ####"
   ]
  },
  {
   "cell_type": "markdown",
   "metadata": {},
   "source": [
    "Nous commençons par l'étude de l'intervalle de confiance exact basé sur l'estimateur du maximum de vraisemblance."
   ]
  },
  {
   "cell_type": "code",
   "execution_count": null,
   "metadata": {},
   "outputs": [],
   "source": [
    "# Quantile of E(1) distribution for the lower bound: corresponds to (1-kappa)\n",
    "qaslow = math.log( 1 - kappa )\n",
    "\n",
    "# List to record the results\n",
    "# It is a list of lists\n",
    "Confidence_intervalsMV = []\n",
    "\n",
    "# Computation of the confidence intervals for the K samples previously simulated\n",
    "for i in range( K ):\n",
    "    # Lower bound\n",
    "    borne_inf = estimateursMV[ i ] + qaslow / taille\n",
    "    # Upper bound\n",
    "    borne_sup = estimateursMV[ i ]\n",
    "    # Parameter inside or outside the confidence interval\n",
    "    ind = (borne_inf <= theta) * (theta <= borne_sup) * 1\n",
    "    # Length of the confidence interval\n",
    "    longueur = borne_sup - borne_inf\n",
    "    # Save the result\n",
    "    Temp = [borne_inf, borne_sup, ind, longueur]\n",
    "    Confidence_intervalsMV.append( Temp )"
   ]
  },
  {
   "cell_type": "markdown",
   "metadata": {},
   "source": [
    "On trace les intervalles de confiance obtenus sur un graphique :\n",
    "*  en vert : les intervalles qui contiennent la vraie valeur du paramètre,\n",
    "*  en rouge : les intervalles qui ne contiennent pas la vraie valeur du paramètre."
   ]
  },
  {
   "cell_type": "code",
   "execution_count": null,
   "metadata": {},
   "outputs": [],
   "source": [
    "# Display of the results\n",
    "matplotlib.pyplot.figure(1)\n",
    "\n",
    "# Number of correct confidence intervals\n",
    "nombre = 0\n",
    "matplotlib.pyplot.ylabel( \"Numéro de l'intervalle\" )\n",
    "matplotlib.pyplot.xlabel( \"Minimum et maximum de l'intervalle\" )\n",
    "for i in range(0, K):\n",
    "    nombre = nombre + Confidence_intervalsMV[i][2]\n",
    "    couleur = \"Red\"\n",
    "    if Confidence_intervalsMV[i][2] == 1:\n",
    "        couleur=\"Green\"\n",
    "    line = matplotlib.pyplot.plot([Confidence_intervalsMV[i][0],Confidence_intervalsMV[i][1]],[i,i], color=couleur)\n",
    "matplotlib.pyplot.draw()"
   ]
  },
  {
   "cell_type": "code",
   "execution_count": null,
   "metadata": {},
   "outputs": [],
   "source": [
    "print( 'Nombre d intervalles contenant le vrai parametre = ', nombre )\n",
    "\n",
    "print( 'Proportion d intervalles contenant le vrai parametre =', float(nombre) / K )\n",
    "\n",
    "# Graph of the interval length\n",
    "matplotlib.pyplot.figure(2)\n",
    "\n",
    "# List of the lengths\n",
    "tempo = list()\n",
    "for i in range(0, K):\n",
    "    tempo.append( Confidence_intervalsMV[i][3] )\n",
    "\n",
    "print( 'Longueur moyenne des intervalles =', numpy.mean( tempo ) )\n",
    "\n",
    "# Graph\n",
    "matplotlib.pyplot.ylabel( \"Longueur de l'intervalle\" )\n",
    "matplotlib.pyplot.xlabel( \"Numéro de l'intervalle\" )\n",
    "matplotlib.pyplot.plot( range(1, K + 1), tempo )\n",
    "matplotlib.pyplot.draw()    "
   ]
  },
  {
   "cell_type": "markdown",
   "metadata": {},
   "source": [
    "**Question**\n",
    "\n",
    "Que constatez-vous?\n",
    "\n",
    "Est-ce que la proportion du nombre d'intervalles de confiance contenant la vraie valeur du paramètre est proche de la valeur attendue *kappa*?\n",
    "\n",
    "Etait-il prévisible que la longueur de l'intervalle ne fluctue pas en fonction de l'échantillon?"
   ]
  },
  {
   "cell_type": "markdown",
   "metadata": {},
   "source": [
    "##### Intervalle de confiance asymptotique ####"
   ]
  },
  {
   "cell_type": "markdown",
   "metadata": {},
   "source": [
    "Nous continuons par l'étude de l'intervalle de confiance asymptotique basé sur l'estimateur de la méthode des moments."
   ]
  },
  {
   "cell_type": "code",
   "execution_count": null,
   "metadata": {},
   "outputs": [],
   "source": [
    "# Quantile of N(0,1) distribution for the lower bound: corresponds to (1-kappa)/2\n",
    "qaslow = scipy.stats.norm.ppf( (1 - kappa ) / 2 )\n",
    "# Quantile of N(0,1) distribution for the upper bound: corresponds to (1+kappa)/2\n",
    "qashigh = scipy.stats.norm.ppf( (1 + kappa ) / 2 )\n",
    "\n",
    "# List to record the results\n",
    "# It is a list of lists\n",
    "Confidence_intervalsasympMM = []\n",
    "\n",
    "# Computation of the confidence intervals for the K samples previously simulated\n",
    "for i in range( K ):\n",
    "    # Lower bound\n",
    "    borne_inf = estimateursMM[ i ] + qaslow / math.sqrt( taille )\n",
    "    # Upper bound\n",
    "    borne_sup = estimateursMM[ i ] + qashigh / math.sqrt( taille )\n",
    "    # Parameter inside or outside the confidence interval\n",
    "    ind = (borne_inf <= theta) * (theta <= borne_sup) * 1\n",
    "    # Length of the confidence interval\n",
    "    longueur = borne_sup - borne_inf\n",
    "    # Save the result\n",
    "    Temp = [borne_inf, borne_sup, ind, longueur]\n",
    "    Confidence_intervalsasympMM.append( Temp )"
   ]
  },
  {
   "cell_type": "code",
   "execution_count": null,
   "metadata": {},
   "outputs": [],
   "source": [
    "# Display of the results\n",
    "matplotlib.pyplot.figure(1)\n",
    "\n",
    "# Number of correct confidence intervals\n",
    "nombre = 0\n",
    "matplotlib.pyplot.ylabel( \"Numéro de l'intervalle\" )\n",
    "matplotlib.pyplot.xlabel( \"Minimum et maximum de l'intervalle\" )\n",
    "for i in range(0, K):\n",
    "    nombre = nombre + Confidence_intervalsasympMM[i][2]\n",
    "    couleur = \"Red\"\n",
    "    if Confidence_intervalsasympMM[i][2] == 1:\n",
    "        couleur=\"Green\"\n",
    "    line = matplotlib.pyplot.plot([Confidence_intervalsasympMM[i][0],Confidence_intervalsasympMM[i][1]],[i,i], color=couleur)\n",
    "matplotlib.pyplot.draw()"
   ]
  },
  {
   "cell_type": "code",
   "execution_count": null,
   "metadata": {},
   "outputs": [],
   "source": [
    "print( 'Nombre d intervalles contenant le vrai parametre = ', nombre )\n",
    "\n",
    "print( 'Proportion d intervalles contenant le vrai parametre =', float(nombre) / K )\n",
    "\n",
    "# Graph of the interval length\n",
    "matplotlib.pyplot.figure(2)\n",
    "\n",
    "# List of the lengths\n",
    "tempo = list()\n",
    "for i in range(0, K):\n",
    "    tempo.append( Confidence_intervalsasympMM[i][3] )\n",
    "\n",
    "print( 'Longueur moyenne des intervalles =', numpy.mean( tempo ) )\n",
    "\n",
    "# Graph\n",
    "matplotlib.pyplot.ylabel( \"Longueur de l'intervalle\" )\n",
    "matplotlib.pyplot.xlabel( \"Numéro de l'intervalle\" )\n",
    "matplotlib.pyplot.plot( range(1, K + 1), tempo )\n",
    "matplotlib.pyplot.draw()    "
   ]
  },
  {
   "cell_type": "markdown",
   "metadata": {},
   "source": [
    "**Question**\n",
    "\n",
    "Que constatez-vous?\n",
    "\n",
    "Est-ce que la proportion du nombre d'intervalles de confiance contenant la vraie valeur du paramètre est proche de la valeur attendue *kappa*?\n",
    "\n",
    "Etait-il prévisible que la longueur de l'intervalle ne fluctue pas en fonction de l'échantillon? Comment se compare la taille moyenne de l'intervalle de confiance bâti à l'aide de l'estimateur par la méthode des moments et celle de l'intervalle de confiance bâti à l'aide de l'estimateur du maximum de vraisemblance? Votre constat était-il prévisible?"
   ]
  },
  {
   "cell_type": "code",
   "execution_count": null,
   "metadata": {},
   "outputs": [],
   "source": []
  }
 ],
 "metadata": {
  "kernelspec": {
   "display_name": "Python 3 (ipykernel)",
   "language": "python",
   "name": "python3"
  },
  "language_info": {
   "codemirror_mode": {
    "name": "ipython",
    "version": 3
   },
   "file_extension": ".py",
   "mimetype": "text/x-python",
   "name": "python",
   "nbconvert_exporter": "python",
   "pygments_lexer": "ipython3",
   "version": "3.11.5"
  }
 },
 "nbformat": 4,
 "nbformat_minor": 4
}
